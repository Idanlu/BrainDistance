{
 "cells": [
  {
   "cell_type": "code",
   "execution_count": 2,
   "id": "53f38f84-b1c5-4cb7-bb8c-af1aaf4c1274",
   "metadata": {},
   "outputs": [],
   "source": [
    "from FastSurfer.FastSurferCNN.data_loader.load_neuroimaging_data import load_and_conform_image\n",
    "import nibabel as nib\n",
    "from nibabel.processing import conform\n",
    "import pandas as pd\n",
    "import matplotlib.pyplot as plt\n",
    "\n",
    "from PIL import ImageFilter\n",
    "import numpy as np\n",
    "import torch\n",
    "from torch.utils.data import DataLoader, Dataset, RandomSampler\n",
    "from torch.nn import CrossEntropyLoss\n",
    "\n",
    "import torchvision.datasets as datasets\n",
    "import torchvision.transforms as transforms\n",
    "from torchsummary import summary\n",
    "\n",
    "from tqdm import tqdm\n",
    "import os\n",
    "import random\n",
    "from pathlib import Path\n",
    "import joblib"
   ]
  },
  {
   "cell_type": "markdown",
   "id": "18a828da-ebec-44d4-a34d-974df2f992e9",
   "metadata": {},
   "source": [
    "## Data Processing and Loading"
   ]
  },
  {
   "cell_type": "code",
   "execution_count": 3,
   "id": "103e0a6a-0a7a-43d5-b1e7-5a3acf937330",
   "metadata": {},
   "outputs": [],
   "source": [
    "df_info = pd.read_csv('data/info.csv')\n",
    "\n",
    "ORDER_MAP = {'Artiodactyla':0,\n",
    " 'Carnivora':1,\n",
    " 'Chiroptera':2,\n",
    " 'Eulipotyphla':3,\n",
    " 'Hyracoidea':4,\n",
    " 'Lagomorpha':5,\n",
    " 'Marsupialia':6,\n",
    " 'Perissodactyla':7,\n",
    " 'Primates':8,\n",
    " 'Rodentia':9,\n",
    " 'Scandentia':10,\n",
    " 'Xenarthra':11}\n",
    "\n",
    "def normalize_image(img):\n",
    "    img += abs(img.min())\n",
    "    img /= img.max()\n",
    "    return img\n",
    "\n",
    "def process_raw_image(datadir, f, order):\n",
    "    if order.empty:\n",
    "        order = df_info[df_info.Filename.str.fullmatch(f.stem[:f.stem.find('_')])].Order.drop_duplicates()\n",
    "    if order.size != 1:\n",
    "        print(f)\n",
    "        print(order)\n",
    "        return ''\n",
    "    \n",
    "    img = nib.load(f)\n",
    "    img = img.get_fdata()\n",
    "    img = np.nan_to_num(img)\n",
    "    img = normalize_image(img)\n",
    "    img_arr = trim(img, img != img[0,0,0])\n",
    "    #print(f'{f} - {img_arr.shape}')\n",
    "    #img = nib.Nifti1Image(a,affine=img.affine)\n",
    "    #img = conform(img, out_shape=(256, 256, 256), ).get_fdata()\n",
    "    \n",
    "    #trimmed = trim(img, img != img[0,0,0])\n",
    "    #print(f'{trimmed.shape}')\n",
    "    \n",
    "    joblib.dump([img,order], datadir + 'Processed/' + f.stem + '.joblib')\n",
    "    return f'{f.stem}.joblib,{ORDER_MAP[order.values[0]]}\\n'\n",
    "\n",
    "def process_raw_images(inputdir='MRI', datadir='data/', order=pd.Series(dtype=str)):\n",
    "    annotations = 'filename,order\\n'\n",
    "    for f in tqdm((Path(datadir)/inputdir).iterdir()):\n",
    "        annotations += process_raw_image(datadir, f, order)\n",
    "    with open(Path(datadir)/'labels.csv', 'w') as f:\n",
    "        f.write(annotations)\n",
    "        \n",
    "def load_processed(datadir='data/'):\n",
    "    train_loader = []\n",
    "    for f in (Path(datadir)/'Processed').iterdir():\n",
    "        train_loader.append(joblib.load(f))\n",
    "    return train_loader\n",
    "\n",
    "def load_raw(datadir='data/'):\n",
    "    train_loader = []\n",
    "    for f in (Path(datadir)/'MRI').iterdir():\n",
    "        order = df_info[df_info.Filename.str.contains(f.stem[:f.stem.find('_')-1])].Order.drop_duplicates()\n",
    "        if order.size > 1:\n",
    "            print(order)\n",
    "            continue\n",
    "        img = nib.load(f).get_fdata()\n",
    "        train_loader.append([img, order])\n",
    "    return train_loader\n",
    "\n",
    "def trim(arr, mask):\n",
    "    bounding_box = tuple(\n",
    "        slice(np.min(indexes), np.max(indexes) + 1)\n",
    "        for indexes in np.where(mask))\n",
    "    return arr[bounding_box]\n",
    "    "
   ]
  },
  {
   "cell_type": "code",
   "execution_count": 126,
   "id": "95004d3f-a1eb-4514-badc-74ba36c46385",
   "metadata": {},
   "outputs": [
    {
     "name": "stderr",
     "output_type": "stream",
     "text": [
      "2it [00:00, 15.63it/s]"
     ]
    },
    {
     "name": "stdout",
     "output_type": "stream",
     "text": [
      "data\\Resampled\\.nii.gz\n",
      "Series([], Name: Order, dtype: object)\n"
     ]
    },
    {
     "name": "stderr",
     "output_type": "stream",
     "text": [
      "53it [00:06,  8.61it/s]\n"
     ]
    }
   ],
   "source": [
    "process_raw_images('Resampled')"
   ]
  },
  {
   "cell_type": "code",
   "execution_count": 47,
   "id": "33fe497e-91a3-470f-8e1e-5142663d3433",
   "metadata": {},
   "outputs": [
    {
     "name": "stderr",
     "output_type": "stream",
     "text": [
      "751it [01:14, 10.07it/s]\n"
     ]
    }
   ],
   "source": [
    "process_raw_images('Resampled', datadir='f:/Data/OpenNeuro/ds004114-download/', order=pd.Series(['Rodentia']))"
   ]
  },
  {
   "cell_type": "markdown",
   "id": "7924d9d9-71dc-4252-bc2c-8fca432f78d0",
   "metadata": {},
   "source": [
    "### Train Test split"
   ]
  },
  {
   "cell_type": "code",
   "execution_count": 132,
   "id": "93998ebd-c9ec-415c-a674-a2cf1f9d44c2",
   "metadata": {},
   "outputs": [],
   "source": [
    "df_info = pd.read_csv('data/labels.csv')\n",
    "df_info = df_info.loc[df_info['order'].isin([0,1])]"
   ]
  },
  {
   "cell_type": "code",
   "execution_count": 133,
   "id": "1af28acf-a711-413f-bf8e-e079efed1027",
   "metadata": {},
   "outputs": [],
   "source": [
    "from sklearn.model_selection import train_test_split\n",
    "\n",
    "train, test = train_test_split(df_info, test_size=0.33, random_state=42)"
   ]
  },
  {
   "cell_type": "code",
   "execution_count": 134,
   "id": "174f538a-ea0c-4da3-aec5-d2e909c1d271",
   "metadata": {},
   "outputs": [],
   "source": [
    "train.to_csv(\"data/train.csv\", index=False)"
   ]
  },
  {
   "cell_type": "code",
   "execution_count": 135,
   "id": "3cc06981-ff14-441a-a613-558af98ec922",
   "metadata": {},
   "outputs": [],
   "source": [
    "test.to_csv(\"data/test.csv\", index=False)"
   ]
  },
  {
   "cell_type": "code",
   "execution_count": 37,
   "id": "b6a8d6fd-0cb5-4d28-951f-961f4c7b13c6",
   "metadata": {},
   "outputs": [],
   "source": [
    "img, order = joblib.load(\"f:/Data/OpenNeuro/ds004215-download/Processed/sub-ON01016_ses-01_acq-CUBE_T2w.nii.joblib\")"
   ]
  },
  {
   "cell_type": "code",
   "execution_count": 51,
   "id": "04b2949f-8aba-4ac9-b779-38c70f4a3fbf",
   "metadata": {},
   "outputs": [],
   "source": [
    "df_info = pd.read_csv('f:/Data/OpenNeuro/labels.csv')"
   ]
  },
  {
   "cell_type": "code",
   "execution_count": 52,
   "id": "c35e10dd-0f59-40d7-abb5-cbe381ae8a4b",
   "metadata": {},
   "outputs": [],
   "source": [
    "from sklearn.model_selection import train_test_split\n",
    "\n",
    "train, test = train_test_split(df_info, test_size=0.33, random_state=42)"
   ]
  },
  {
   "cell_type": "code",
   "execution_count": 54,
   "id": "2bb798dc-7b3a-4c51-8f92-5964832876bc",
   "metadata": {},
   "outputs": [],
   "source": [
    "train.to_csv(\"f:/Data/OpenNeuro//train.csv\", index=False)"
   ]
  },
  {
   "cell_type": "code",
   "execution_count": 55,
   "id": "51613532-1ab4-4d1e-84f8-f77a6eee78c6",
   "metadata": {},
   "outputs": [],
   "source": [
    "test.to_csv(\"f:/Data/OpenNeuro//test.csv\", index=False)"
   ]
  },
  {
   "cell_type": "code",
   "execution_count": 37,
   "id": "a0216ec6-817c-4616-a737-6d42565c3841",
   "metadata": {},
   "outputs": [],
   "source": [
    "img, order = joblib.load(\"f:/Data/OpenNeuro/ds004215-download/Processed/sub-ON01016_ses-01_acq-CUBE_T2w.nii.joblib\")"
   ]
  },
  {
   "cell_type": "code",
   "execution_count": 46,
   "id": "4cad83f7-f054-4010-946b-96187f7c0bf1",
   "metadata": {},
   "outputs": [
    {
     "ename": "IndexError",
     "evalue": "index 121 is out of bounds for axis 2 with size 121",
     "output_type": "error",
     "traceback": [
      "\u001b[1;31m---------------------------------------------------------------------------\u001b[0m",
      "\u001b[1;31mIndexError\u001b[0m                                Traceback (most recent call last)",
      "Input \u001b[1;32mIn [46]\u001b[0m, in \u001b[0;36m<cell line: 1>\u001b[1;34m()\u001b[0m\n\u001b[1;32m----> 1\u001b[0m plt\u001b[38;5;241m.\u001b[39mimshow(\u001b[43mimg\u001b[49m\u001b[43m[\u001b[49m\u001b[43m:\u001b[49m\u001b[43m,\u001b[49m\u001b[43m:\u001b[49m\u001b[43m,\u001b[49m\u001b[38;5;241;43m121\u001b[39;49m\u001b[43m]\u001b[49m)\n\u001b[0;32m      2\u001b[0m plt\u001b[38;5;241m.\u001b[39mcolorbar()\n\u001b[0;32m      3\u001b[0m plt\u001b[38;5;241m.\u001b[39mshow()\n",
      "\u001b[1;31mIndexError\u001b[0m: index 121 is out of bounds for axis 2 with size 121"
     ]
    }
   ],
   "source": [
    "plt.imshow(img[:,:,121])\n",
    "plt.colorbar()\n",
    "plt.show()"
   ]
  },
  {
   "cell_type": "code",
   "execution_count": 13,
   "id": "4044a1ac-4700-4e9b-a099-d8cf09b8b8f0",
   "metadata": {},
   "outputs": [],
   "source": [
    "model = torch.load('yAwareContrastiveLearning/fine_tune_epoch_50.pth')\n",
    "losses = model['losses']"
   ]
  },
  {
   "cell_type": "code",
   "execution_count": 18,
   "id": "be393b3a-6e1a-4da0-8a90-75e24eca6daa",
   "metadata": {},
   "outputs": [
    {
     "data": {
      "image/png": "[encoded data removed]",
      "text/plain": [
       "<Figure size 640x480 with 1 Axes>"
      ]
     },
     "metadata": {},
     "output_type": "display_data"
    }
   ],
   "source": [
    "plt.plot(range(len(losses['train'])), losses['train'])\n",
    "plt.plot(range(len(losses['validation'])), losses['validation'])\n",
    "plt.show()"
   ]
  },
  {
   "cell_type": "markdown",
   "id": "c08fc30b-48f9-4419-b547-be4f610ac8ce",
   "metadata": {
    "jp-MarkdownHeadingCollapsed": true,
    "tags": []
   },
   "source": [
    "## SWaV"
   ]
  },
  {
   "cell_type": "code",
   "execution_count": 8,
   "id": "c2e95192-f802-4ec6-a77b-ee3f04844ba0",
   "metadata": {},
   "outputs": [],
   "source": [
    "def train(train_loader, model, optimizer, epoch, lr_schedule, queue):\n",
    "    batch_time = AverageMeter()\n",
    "    data_time = AverageMeter()\n",
    "    losses = AverageMeter()\n",
    "\n",
    "    model.train()\n",
    "    use_the_queue = False\n",
    "\n",
    "    end = time.time()\n",
    "    for it, inputs in enumerate(train_loader):\n",
    "        # measure data loading time\n",
    "        data_time.update(time.time() - end)\n",
    "\n",
    "        # update learning rate\n",
    "        iteration = epoch * len(train_loader) + it\n",
    "        for param_group in optimizer.param_groups:\n",
    "            param_group[\"lr\"] = lr_schedule[iteration]\n",
    "\n",
    "        # normalize the prototypes\n",
    "        with torch.no_grad():\n",
    "            w = model.module.prototypes.weight.data.clone()\n",
    "            w = nn.functional.normalize(w, dim=1, p=2)\n",
    "            model.module.prototypes.weight.copy_(w)\n",
    "\n",
    "        # ============ multi-res forward passes ... ============\n",
    "        embedding, output = model(inputs)\n",
    "        embedding = embedding.detach()\n",
    "        bs = inputs[0].size(0)\n",
    "\n",
    "        # ============ swav loss ... ============\n",
    "        loss = 0\n",
    "        for i, crop_id in enumerate(args.crops_for_assign):\n",
    "            with torch.no_grad():\n",
    "                out = output[bs * crop_id: bs * (crop_id + 1)].detach()\n",
    "\n",
    "                # time to use the queue\n",
    "                if queue is not None:\n",
    "                    if use_the_queue or not torch.all(queue[i, -1, :] == 0):\n",
    "                        use_the_queue = True\n",
    "                        out = torch.cat((torch.mm(\n",
    "                            queue[i],\n",
    "                            model.module.prototypes.weight.t()\n",
    "                        ), out))\n",
    "                    # fill the queue\n",
    "                    queue[i, bs:] = queue[i, :-bs].clone()\n",
    "                    queue[i, :bs] = embedding[crop_id * bs: (crop_id + 1) * bs]\n",
    "\n",
    "                # get assignments\n",
    "                q = distributed_sinkhorn(out)[-bs:]\n",
    "\n",
    "            # cluster assignment prediction\n",
    "            subloss = 0\n",
    "            for v in np.delete(np.arange(np.sum(args.nmb_crops)), crop_id):\n",
    "                x = output[bs * v: bs * (v + 1)] / args.temperature\n",
    "                subloss -= torch.mean(torch.sum(q * F.log_softmax(x, dim=1), dim=1))\n",
    "            loss += subloss / (np.sum(args.nmb_crops) - 1)\n",
    "        loss /= len(args.crops_for_assign)\n",
    "\n",
    "        # ============ backward and optim step ... ============\n",
    "        optimizer.zero_grad()\n",
    "        if args.use_fp16:\n",
    "            with apex.amp.scale_loss(loss, optimizer) as scaled_loss:\n",
    "                scaled_loss.backward()\n",
    "        else:\n",
    "            loss.backward()\n",
    "        # cancel gradients for the prototypes\n",
    "        if iteration < args.freeze_prototypes_niters:\n",
    "            for name, p in model.named_parameters():\n",
    "                if \"prototypes\" in name:\n",
    "                    p.grad = None\n",
    "        optimizer.step()\n",
    "\n",
    "        # ============ misc ... ============\n",
    "        losses.update(loss.item(), inputs[0].size(0))\n",
    "        batch_time.update(time.time() - end)\n",
    "        end = time.time()\n",
    "        if args.rank ==0 and it % 50 == 0:\n",
    "            logger.info(\n",
    "                \"Epoch: [{0}][{1}]\\t\"\n",
    "                \"Time {batch_time.val:.3f} ({batch_time.avg:.3f})\\t\"\n",
    "                \"Data {data_time.val:.3f} ({data_time.avg:.3f})\\t\"\n",
    "                \"Loss {loss.val:.4f} ({loss.avg:.4f})\\t\"\n",
    "                \"Lr: {lr:.4f}\".format(\n",
    "                    epoch,\n",
    "                    it,\n",
    "                    batch_time=batch_time,\n",
    "                    data_time=data_time,\n",
    "                    loss=losses,\n",
    "                    lr=optimizer.optim.param_groups[0][\"lr\"],\n",
    "                )\n",
    "            )\n",
    "    return (epoch, losses.avg), queue\n",
    "\n",
    "@torch.no_grad()\n",
    "def distributed_sinkhorn(out):\n",
    "    Q = torch.exp(out / args.epsilon).t() # Q is K-by-B for consistency with notations from our paper\n",
    "    B = Q.shape[1] * args.world_size # number of samples to assign\n",
    "    K = Q.shape[0] # how many prototypes\n",
    "\n",
    "    # make the matrix sums to 1\n",
    "    sum_Q = torch.sum(Q)\n",
    "    dist.all_reduce(sum_Q)\n",
    "    Q /= sum_Q\n",
    "\n",
    "    for it in range(args.sinkhorn_iterations):\n",
    "        # normalize each row: total weight per prototype must be 1/K\n",
    "        sum_of_rows = torch.sum(Q, dim=1, keepdim=True)\n",
    "        dist.all_reduce(sum_of_rows)\n",
    "        Q /= sum_of_rows\n",
    "        Q /= K\n",
    "\n",
    "        # normalize each column: total weight per sample must be 1/B\n",
    "        Q /= torch.sum(Q, dim=0, keepdim=True)\n",
    "        Q /= B\n",
    "\n",
    "    Q *= B # the colomns must sum to 1 so that Q is an assignment\n",
    "    return Q.t()"
   ]
  }
 ],
 "metadata": {
  "kernelspec": {
   "display_name": "Python 3",
   "language": "python",
   "name": "python3"
  },
  "language_info": {
   "codemirror_mode": {
    "name": "ipython",
    "version": 3
   },
   "file_extension": ".py",
   "mimetype": "text/x-python",
   "name": "python",
   "nbconvert_exporter": "python",
   "pygments_lexer": "ipython3",
   "version": "3.8.0"
  }
 },
 "nbformat": 4,
 "nbformat_minor": 5
}
